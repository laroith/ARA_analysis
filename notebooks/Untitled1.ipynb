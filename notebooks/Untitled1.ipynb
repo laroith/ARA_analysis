{
 "cells": [
  {
   "cell_type": "code",
   "execution_count": 1,
   "id": "14880b00-9c1c-489b-a1d6-6e8e4586a01a",
   "metadata": {},
   "outputs": [
    {
     "ename": "ModuleNotFoundError",
     "evalue": "No module named 'ESMF'",
     "output_type": "error",
     "traceback": [
      "\u001b[0;31m---------------------------------------------------------------------------\u001b[0m",
      "\u001b[0;31mModuleNotFoundError\u001b[0m                       Traceback (most recent call last)",
      "Cell \u001b[0;32mIn[1], line 6\u001b[0m\n\u001b[1;32m      4\u001b[0m \u001b[38;5;28;01mimport\u001b[39;00m\u001b[38;5;250m \u001b[39m\u001b[38;5;21;01mxarray\u001b[39;00m\u001b[38;5;250m \u001b[39m\u001b[38;5;28;01mas\u001b[39;00m\u001b[38;5;250m \u001b[39m\u001b[38;5;21;01mxr\u001b[39;00m\n\u001b[1;32m      5\u001b[0m \u001b[38;5;28;01mimport\u001b[39;00m\u001b[38;5;250m \u001b[39m\u001b[38;5;21;01mmatplotlib\u001b[39;00m\u001b[38;5;21;01m.\u001b[39;00m\u001b[38;5;21;01mpyplot\u001b[39;00m\u001b[38;5;250m \u001b[39m\u001b[38;5;28;01mas\u001b[39;00m\u001b[38;5;250m \u001b[39m\u001b[38;5;21;01mplt\u001b[39;00m\n\u001b[0;32m----> 6\u001b[0m \u001b[38;5;28;01mimport\u001b[39;00m\u001b[38;5;250m \u001b[39m\u001b[38;5;21;01mxesmf\u001b[39;00m\u001b[38;5;250m \u001b[39m\u001b[38;5;28;01mas\u001b[39;00m\u001b[38;5;250m \u001b[39m\u001b[38;5;21;01mxe\u001b[39;00m\n\u001b[1;32m      7\u001b[0m \u001b[38;5;28;01mimport\u001b[39;00m\u001b[38;5;250m \u001b[39m\u001b[38;5;21;01mESMF\u001b[39;00m\n\u001b[1;32m      9\u001b[0m \u001b[38;5;66;03m# === Project modules ===\u001b[39;00m\n",
      "File \u001b[0;32m~/anaconda3/envs/ara_env/lib/python3.13/site-packages/xesmf/__init__.py:4\u001b[0m\n\u001b[1;32m      1\u001b[0m \u001b[38;5;66;03m# flake8: noqa\u001b[39;00m\n\u001b[1;32m      3\u001b[0m \u001b[38;5;28;01mfrom\u001b[39;00m\u001b[38;5;250m \u001b[39m\u001b[38;5;21;01m.\u001b[39;00m\u001b[38;5;250m \u001b[39m\u001b[38;5;28;01mimport\u001b[39;00m data, util\n\u001b[0;32m----> 4\u001b[0m \u001b[38;5;28;01mfrom\u001b[39;00m\u001b[38;5;250m \u001b[39m\u001b[38;5;21;01m.\u001b[39;00m\u001b[38;5;21;01mfrontend\u001b[39;00m\u001b[38;5;250m \u001b[39m\u001b[38;5;28;01mimport\u001b[39;00m Regridder, SpatialAverager\n\u001b[1;32m      6\u001b[0m \u001b[38;5;28;01mtry\u001b[39;00m:\n\u001b[1;32m      7\u001b[0m     \u001b[38;5;28;01mfrom\u001b[39;00m\u001b[38;5;250m \u001b[39m\u001b[38;5;21;01m.\u001b[39;00m\u001b[38;5;21;01m_version\u001b[39;00m\u001b[38;5;250m \u001b[39m\u001b[38;5;28;01mimport\u001b[39;00m __version__\n",
      "File \u001b[0;32m~/anaconda3/envs/ara_env/lib/python3.13/site-packages/xesmf/frontend.py:13\u001b[0m\n\u001b[1;32m     10\u001b[0m \u001b[38;5;28;01mimport\u001b[39;00m\u001b[38;5;250m \u001b[39m\u001b[38;5;21;01mxarray\u001b[39;00m\u001b[38;5;250m \u001b[39m\u001b[38;5;28;01mas\u001b[39;00m\u001b[38;5;250m \u001b[39m\u001b[38;5;21;01mxr\u001b[39;00m\n\u001b[1;32m     11\u001b[0m \u001b[38;5;28;01mfrom\u001b[39;00m\u001b[38;5;250m \u001b[39m\u001b[38;5;21;01mxarray\u001b[39;00m\u001b[38;5;250m \u001b[39m\u001b[38;5;28;01mimport\u001b[39;00m DataArray, Dataset\n\u001b[0;32m---> 13\u001b[0m \u001b[38;5;28;01mfrom\u001b[39;00m\u001b[38;5;250m \u001b[39m\u001b[38;5;21;01m.\u001b[39;00m\u001b[38;5;21;01mbackend\u001b[39;00m\u001b[38;5;250m \u001b[39m\u001b[38;5;28;01mimport\u001b[39;00m Grid, LocStream, Mesh, add_corner, esmf_regrid_build, esmf_regrid_finalize\n\u001b[1;32m     14\u001b[0m \u001b[38;5;28;01mfrom\u001b[39;00m\u001b[38;5;250m \u001b[39m\u001b[38;5;21;01m.\u001b[39;00m\u001b[38;5;21;01msmm\u001b[39;00m\u001b[38;5;250m \u001b[39m\u001b[38;5;28;01mimport\u001b[39;00m _combine_weight_multipoly, add_nans_to_weights, apply_weights, read_weights\n\u001b[1;32m     15\u001b[0m \u001b[38;5;28;01mfrom\u001b[39;00m\u001b[38;5;250m \u001b[39m\u001b[38;5;21;01m.\u001b[39;00m\u001b[38;5;21;01mutil\u001b[39;00m\u001b[38;5;250m \u001b[39m\u001b[38;5;28;01mimport\u001b[39;00m split_polygons_and_holes\n",
      "File \u001b[0;32m~/anaconda3/envs/ara_env/lib/python3.13/site-packages/xesmf/backend.py:21\u001b[0m\n\u001b[1;32m     18\u001b[0m \u001b[38;5;28;01mimport\u001b[39;00m\u001b[38;5;250m \u001b[39m\u001b[38;5;21;01mos\u001b[39;00m\n\u001b[1;32m     19\u001b[0m \u001b[38;5;28;01mimport\u001b[39;00m\u001b[38;5;250m \u001b[39m\u001b[38;5;21;01mwarnings\u001b[39;00m\n\u001b[0;32m---> 21\u001b[0m \u001b[38;5;28;01mimport\u001b[39;00m\u001b[38;5;250m \u001b[39m\u001b[38;5;21;01mESMF\u001b[39;00m\n\u001b[1;32m     22\u001b[0m \u001b[38;5;28;01mimport\u001b[39;00m\u001b[38;5;250m \u001b[39m\u001b[38;5;21;01mnumpy\u001b[39;00m\u001b[38;5;250m \u001b[39m\u001b[38;5;28;01mas\u001b[39;00m\u001b[38;5;250m \u001b[39m\u001b[38;5;21;01mnp\u001b[39;00m\n\u001b[1;32m     23\u001b[0m \u001b[38;5;28;01mimport\u001b[39;00m\u001b[38;5;250m \u001b[39m\u001b[38;5;21;01mnumpy\u001b[39;00m\u001b[38;5;21;01m.\u001b[39;00m\u001b[38;5;21;01mlib\u001b[39;00m\u001b[38;5;21;01m.\u001b[39;00m\u001b[38;5;21;01mrecfunctions\u001b[39;00m\u001b[38;5;250m \u001b[39m\u001b[38;5;28;01mas\u001b[39;00m\u001b[38;5;250m \u001b[39m\u001b[38;5;21;01mnprec\u001b[39;00m\n",
      "\u001b[0;31mModuleNotFoundError\u001b[0m: No module named 'ESMF'"
     ]
    }
   ],
   "source": [
    "import sys, os\n",
    "sys.path.append(os.path.abspath(\"..\"))\n",
    "\n",
    "import xarray as xr\n",
    "import matplotlib.pyplot as plt\n",
    "import xesmf as xe\n",
    "import ESMF\n",
    "\n",
    "# === Project modules ===\n",
    "from data_loading.load_data import load_dataset, load_ensemble_any_latlon\n",
    "from data_loading.subset_time import get_common_time_range, subset_time\n",
    "from data_loading.subset_region import subset_dataset, get_reference_extent\n",
    "from utils.temporal_stats import aggregate_to_daily\n",
    "from utils.bias_metrics import mean_error\n",
    "# The new functions we'll test:\n",
    "from data_loading.unify_grids import force_match_dimensions, regrid_to_ensemble\n",
    "\n",
    "# === 1. Load Example Data ===\n",
    "ensemble_pattern = os.path.join(\"..\", \"data\", \"total_precipitation_2017010*.nc\")\n",
    "ds_ensemble = load_ensemble_any_latlon(ensemble_pattern)\n",
    "\n",
    "reference_file = os.path.join(\"..\", \"data\", \"SPARTACUS2-DAILY_RR_2017.nc\")\n",
    "ds_ref = xr.open_dataset(reference_file)\n",
    "\n",
    "print(\"Original Ensemble:\", ds_ensemble)\n",
    "print(\"Original Reference:\", ds_ref)\n",
    "\n",
    "# === 2. Spatial Subset (Optional) ===\n",
    "# If we want a smaller region, we find the ref extent and subset both\n",
    "ref_bounds = get_reference_extent(ds_ref, lat_var=\"lat\", lon_var=\"lon\")\n",
    "ds_ensemble_sub = subset_dataset(ds_ensemble, lat_var=\"lat\", lon_var=\"lon\", bounds=ref_bounds)\n",
    "ds_ref_sub      = subset_dataset(ds_ref, lat_var=\"lat\", lon_var=\"lon\", bounds=ref_bounds)\n",
    "\n",
    "# === 3. Temporal Subset (Optional) ===\n",
    "common_time = get_common_time_range(ds_ensemble_sub, ds_ref_sub, time_var=\"time\")\n",
    "ds_ensemble_sub = subset_time(ds_ensemble_sub, time_bounds=common_time)\n",
    "ds_ref_sub      = subset_time(ds_ref_sub, time_bounds=common_time)\n",
    "\n",
    "# === 4. Daily Aggregation if Ensemble is Hourly ===\n",
    "ds_ens_daily = aggregate_to_daily(ds_ensemble_sub, \"precipitation\", method=\"sum\", compute_ens_mean=True)\n",
    "ds_ref_daily = ds_ref_sub[\"RR\"]  # Already daily\n",
    "\n",
    "print(\"\\nEnsemble daily shape:\", ds_ens_daily.shape)\n",
    "print(\"Reference daily shape:\", ds_ref_daily.shape)"
   ]
  },
  {
   "cell_type": "code",
   "execution_count": null,
   "id": "dafae861-edfb-4343-834e-c6473fa8a305",
   "metadata": {},
   "outputs": [],
   "source": []
  }
 ],
 "metadata": {
  "kernelspec": {
   "display_name": "Python 3 (ipykernel)",
   "language": "python",
   "name": "python3"
  },
  "language_info": {
   "codemirror_mode": {
    "name": "ipython",
    "version": 3
   },
   "file_extension": ".py",
   "mimetype": "text/x-python",
   "name": "python",
   "nbconvert_exporter": "python",
   "pygments_lexer": "ipython3",
   "version": "3.13.1"
  }
 },
 "nbformat": 4,
 "nbformat_minor": 5
}
