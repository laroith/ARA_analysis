{
 "cells": [
  {
   "cell_type": "code",
   "execution_count": 3,
   "id": "4f01d967-2852-4df2-a2c3-6abb4e377ddd",
   "metadata": {},
   "outputs": [
    {
     "name": "stdout",
     "output_type": "stream",
     "text": [
      "=== Ensemble Dataset Quality Check ===\n",
      "\n",
      "=== Reference Dataset Quality Check ===\n",
      "Missing values in RR: 39617670\n",
      "Number of outliers in RR above 2000 mm: 0\n",
      "\n",
      "Reference dataset:\n",
      " <xarray.Dataset> Size: 564MB\n",
      "Dimensions:                  (time: 366, y: 329, x: 584)\n",
      "Coordinates:\n",
      "    lambert_conformal_conic  float64 8B ...\n",
      "    lat                      (y, x) float32 769kB ...\n",
      "    lon                      (y, x) float32 769kB ...\n",
      "  * time                     (time) datetime64[ns] 3kB 2016-01-01 ... 2016-12-31\n",
      "  * x                        (x) int32 2kB 112500 113500 ... 694500 695500\n",
      "  * y                        (y) int32 1kB 258500 259500 ... 585500 586500\n",
      "Data variables:\n",
      "    RR                       (time, y, x) float64 563MB nan nan nan ... nan nan\n",
      "Attributes: (12/14)\n",
      "    Conventions:         CF-1.7\n",
      "    author:              GeoSphere Austria (kontakt@geosphere.at)\n",
      "    comment:             No additional comments\n",
      "    crs:                 EPSG:3416\n",
      "    freq:                1D\n",
      "    grid_mapping:        lambert_conformal_conic\n",
      "    ...                  ...\n",
      "    name:                spartacus-daily v2.1\n",
      "    references:          temperature - doi:10.1007/s00704-015-1411-4, precipi...\n",
      "    source:              geostatistical interpolation of surface station obse...\n",
      "    spatial_domain:      SPARTACUS\n",
      "    spatial_resolution:  1000\n",
      "    title:               SPARTACUS - Spatial Dataset for Climate in Austria\n"
     ]
    }
   ],
   "source": [
    "# test_quality_checks.ipynb\n",
    "\n",
    "import sys\n",
    "import os\n",
    "\n",
    "# 1️⃣ Make sure Python can find the data_loading directory\n",
    "sys.path.append(os.path.abspath(\"..\"))\n",
    "\n",
    "# 2️⃣ Import the quality check functions\n",
    "from data_loading.check_quality import check_missing_values, check_outliers\n",
    "\n",
    "# 3️⃣ Import xarray and load test datasets\n",
    "import xarray as xr\n",
    "\n",
    "# Paths to your data\n",
    "#ensemble_path = \"../data/test_subset_ensemble.nc\"\n",
    "reference_path = \"../data/SPARTACUS2-DAILY_RR_2016.nc\"\n",
    "\n",
    "# Load the datasets\n",
    "#ensemble_ds = xr.open_dataset(ensemble_path)\n",
    "reference_ds = xr.open_dataset(reference_path)\n",
    "\n",
    "# 4️⃣ Apply missing values and outlier checks\n",
    "print(\"=== Ensemble Dataset Quality Check ===\")\n",
    "#check_missing_values(ensemble_ds, \"precipitation\")\n",
    "#check_outliers(ensemble_ds, \"precipitation\", threshold=500)\n",
    "\n",
    "print(\"\\n=== Reference Dataset Quality Check ===\")\n",
    "check_missing_values(reference_ds, \"RR\")\n",
    "check_outliers(reference_ds, \"RR\", threshold=2000)\n",
    "\n",
    "# 5️⃣ (Optional) Print data for debugging/inspection\n",
    "#print(\"\\nEnsemble dataset:\\n\", ensemble_ds)\n",
    "print(\"\\nReference dataset:\\n\", reference_ds)\n"
   ]
  },
  {
   "cell_type": "code",
   "execution_count": null,
   "id": "0c0d9004-5950-4a21-8245-d711e217870d",
   "metadata": {},
   "outputs": [],
   "source": []
  }
 ],
 "metadata": {
  "kernelspec": {
   "display_name": "Python 3 (ipykernel)",
   "language": "python",
   "name": "python3"
  },
  "language_info": {
   "codemirror_mode": {
    "name": "ipython",
    "version": 3
   },
   "file_extension": ".py",
   "mimetype": "text/x-python",
   "name": "python",
   "nbconvert_exporter": "python",
   "pygments_lexer": "ipython3",
   "version": "3.13.1"
  }
 },
 "nbformat": 4,
 "nbformat_minor": 5
}
